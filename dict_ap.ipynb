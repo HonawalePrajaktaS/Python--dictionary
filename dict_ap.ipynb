{
 "cells": [
  {
   "cell_type": "code",
   "execution_count": 4,
   "id": "a0b6bcf7-00a4-4297-b239-3c4019615045",
   "metadata": {},
   "outputs": [
    {
     "data": {
      "text/plain": [
       "'praj'"
      ]
     },
     "execution_count": 4,
     "metadata": {},
     "output_type": "execute_result"
    }
   ],
   "source": [
    "# Access Dictionary Values: \n",
    "dict={\"name\":\"praj\",\"age\":25,\"city\":\"pune\"}\n",
    "def access(key):\n",
    "    if key in dict:\n",
    "        return dict[key]\n",
    "    else:\n",
    "        return False\n",
    "a=access(\"name\")\n",
    "a"
   ]
  },
  {
   "cell_type": "code",
   "execution_count": 6,
   "id": "a3eb4d1f-556b-4406-b86f-9e4857a82cf1",
   "metadata": {},
   "outputs": [
    {
     "data": {
      "text/plain": [
       "'NOt found'"
      ]
     },
     "execution_count": 6,
     "metadata": {},
     "output_type": "execute_result"
    }
   ],
   "source": [
    "# Access Dictionary Values: \n",
    "dict={\"name\":\"praj\",\"age\":25,\"city\":\"pune\"}\n",
    "def access(key):\n",
    "    if key in dict:\n",
    "        return dict.get(key)\n",
    "    else:\n",
    "        return \"NOt found\"\n",
    "a=access(\"nam\")\n",
    "a"
   ]
  },
  {
   "cell_type": "code",
   "execution_count": 24,
   "id": "eb5af2f2-93a6-44a1-8561-dfe1172be051",
   "metadata": {},
   "outputs": [
    {
     "data": {
      "text/plain": [
       "{'name': 'xyz', 'city': 'mumbai', 'grade': 'A'}"
      ]
     },
     "execution_count": 24,
     "metadata": {},
     "output_type": "execute_result"
    }
   ],
   "source": [
    "# Add Key-Value Pairs to a Dictionary: \n",
    "dict1={\"name\":\"xyz\",\"city\":\"mumbai\"}\n",
    "def add_K_V(key,value):\n",
    "    dict1[key]=value\n",
    "    return dict1\n",
    "a=add_K_V(\"grade\",\"A\")\n",
    "a"
   ]
  },
  {
   "cell_type": "code",
   "execution_count": 25,
   "id": "daf64a13-4faa-4ea9-b64e-3acc3babe30d",
   "metadata": {},
   "outputs": [
    {
     "data": {
      "text/plain": [
       "{'name': 'xyz', 'city': 'mumbai', 'grade': 'A', 'country': 'India'}"
      ]
     },
     "execution_count": 25,
     "metadata": {},
     "output_type": "execute_result"
    }
   ],
   "source": [
    "# Add Key-Value Pairs to a Dictionary: \n",
    "def add_K_V(key,value):\n",
    "    dict1.update({key:value})\n",
    "    return dict1\n",
    "a=add_K_V(\"country\",\"India\")\n",
    "a"
   ]
  },
  {
   "cell_type": "code",
   "execution_count": 26,
   "id": "a19ffe3e-1700-4e07-8e6d-00ce8bebb6ea",
   "metadata": {},
   "outputs": [
    {
     "data": {
      "text/plain": [
       "{'city': 'mumbai', 'grade': 'A', 'country': 'India'}"
      ]
     },
     "execution_count": 26,
     "metadata": {},
     "output_type": "execute_result"
    }
   ],
   "source": [
    "# Remove Key-Value Pairs from a Dictionary: \n",
    "def remove_K_V(key,value):\n",
    "    if key in dict1 and dict1[key]==value:\n",
    "        dict1.pop(key)\n",
    "    return dict1\n",
    "a=remove_K_V(\"name\",\"xyz\")\n",
    "a "
   ]
  },
  {
   "cell_type": "code",
   "execution_count": 30,
   "id": "61268454-3c59-472b-8a11-b18431fe11b9",
   "metadata": {},
   "outputs": [
    {
     "data": {
      "text/plain": [
       "'yes--> city'"
      ]
     },
     "execution_count": 30,
     "metadata": {},
     "output_type": "execute_result"
    }
   ],
   "source": [
    "# Check if a Key Exists in a Dictionary: \n",
    "def check_key(key):\n",
    "    if key in dict1:\n",
    "        return f\"yes--> {key}\"\n",
    "a=check_key(\"city\")\n",
    "a"
   ]
  },
  {
   "cell_type": "code",
   "execution_count": 31,
   "id": "5e82101f-ba41-4b85-90be-a2585c03c2b1",
   "metadata": {},
   "outputs": [
    {
     "data": {
      "text/plain": [
       "'yes--> mumbai'"
      ]
     },
     "execution_count": 31,
     "metadata": {},
     "output_type": "execute_result"
    }
   ],
   "source": [
    "# Check if a Key Exists in a Dictionary: \n",
    "def check_key(key):\n",
    "    if key in dict1:\n",
    "        return f\"yes--> {dict1.get(key)}\"\n",
    "a=check_key(\"city\")\n",
    "a"
   ]
  },
  {
   "cell_type": "code",
   "execution_count": 40,
   "id": "6990d49c-542d-466e-b7fb-37a81dfb2184",
   "metadata": {},
   "outputs": [
    {
     "name": "stdout",
     "output_type": "stream",
     "text": [
      "name:xyz\n",
      "city:mumbai\n",
      "grade:A\n",
      "country:India\n"
     ]
    }
   ],
   "source": [
    "# Iterate Over Dictionary Keys and Values: \n",
    "dict1={'name': 'xyz', 'city': 'mumbai', 'grade': 'A', 'country': 'India'}\n",
    "def iter(dict1):\n",
    "    s=[]\n",
    "    for key,valye in dict1.items():\n",
    "        s.append(f\"{key}:{dict1.get(key)}\")\n",
    "    return s\n",
    "a=iter(dict1)\n",
    "for x in a:\n",
    "    print(x)"
   ]
  },
  {
   "cell_type": "code",
   "execution_count": 42,
   "id": "19fe3b5d-0cfa-4938-b83a-cfc8d20ef2ae",
   "metadata": {},
   "outputs": [
    {
     "data": {
      "text/plain": [
       "{'name': 'Alisa', 'city': 'Pune', 'school': 'dvd', 'grade': 'A+'}"
      ]
     },
     "execution_count": 42,
     "metadata": {},
     "output_type": "execute_result"
    }
   ],
   "source": [
    "#  Merge Two Dictionaries: \n",
    "dict1={\"name\": \"Alisa\", \"city\":\"Pune\"}\n",
    "dict2={\"school\":\"dvd\",\"grade\":\"A+\"}\n",
    "def merge(dict1,dict2):\n",
    "    dict1.update(dict2)\n",
    "    return dict1\n",
    "a=merge(dict1,dict2)\n",
    "a"
   ]
  },
  {
   "cell_type": "code",
   "execution_count": 43,
   "id": "89419380-7315-4310-8fac-ab4d4ed4eb34",
   "metadata": {},
   "outputs": [
    {
     "data": {
      "text/plain": [
       "{'name': 'Alisa', 'city': 'Pune', 'school': 'dvd', 'grade': 'A+'}"
      ]
     },
     "execution_count": 43,
     "metadata": {},
     "output_type": "execute_result"
    }
   ],
   "source": [
    "#  Merge Two Dictionaries: \n",
    "dict1={\"name\": \"Alisa\", \"city\":\"Pune\"}\n",
    "dict2={\"school\":\"dvd\",\"grade\":\"A+\"}\n",
    "def merge(dict1,dict2):\n",
    "    return {**dict1,**dict2}\n",
    "a=merge(dict1,dict2)\n",
    "a"
   ]
  },
  {
   "cell_type": "code",
   "execution_count": 44,
   "id": "e4b984ef-7bbb-4bc4-bf71-5af016dc862f",
   "metadata": {},
   "outputs": [
    {
     "data": {
      "text/plain": [
       "{1: 2, 2: 2, 3: 2, 4: 2, 8: 2, 5: 2, 6: 2, 7: 1}"
      ]
     },
     "execution_count": 44,
     "metadata": {},
     "output_type": "execute_result"
    }
   ],
   "source": [
    "# Count Frequency of Elements in a List using a Dictionary: \n",
    "l=[1,2,3,4,3,2,1,8,5,6,7,8,6,5,4]\n",
    "def count(l):\n",
    "    dict3={}\n",
    "    for i in l:\n",
    "        if i in dict3:\n",
    "            dict3[i]+=1\n",
    "        else:\n",
    "            dict3[i]=1\n",
    "    return dict3\n",
    "a=count(l)\n",
    "a"
   ]
  },
  {
   "cell_type": "code",
   "execution_count": 46,
   "id": "67575d61-faf8-4225-a39d-62cabb1dd9af",
   "metadata": {},
   "outputs": [
    {
     "data": {
      "text/plain": [
       "False"
      ]
     },
     "execution_count": 46,
     "metadata": {},
     "output_type": "execute_result"
    }
   ],
   "source": [
    "#  Check if a Dictionary is Empty: \n",
    "def check_dict(dict3):\n",
    "    return not bool(dict3)\n",
    "dict3={1:8}\n",
    "a=check_dict(dict3)\n",
    "a"
   ]
  },
  {
   "cell_type": "code",
   "execution_count": 48,
   "id": "0300dd34-f84a-401f-80dc-b2deeaa819ac",
   "metadata": {},
   "outputs": [
    {
     "data": {
      "text/plain": [
       "True"
      ]
     },
     "execution_count": 48,
     "metadata": {},
     "output_type": "execute_result"
    }
   ],
   "source": [
    "\n",
    "def check_dict(dict3):\n",
    "    return len(dict3)==0\n",
    "dict3={}\n",
    "a=check_dict(dict3)\n",
    "a"
   ]
  },
  {
   "cell_type": "code",
   "execution_count": 49,
   "id": "a52fba40-7225-42ca-9707-1df646261941",
   "metadata": {},
   "outputs": [
    {
     "data": {
      "text/plain": [
       "True"
      ]
     },
     "execution_count": 49,
     "metadata": {},
     "output_type": "execute_result"
    }
   ],
   "source": [
    "def check_dict(dict3):\n",
    "    return dict3=={}\n",
    "dict3={}\n",
    "a=check_dict(dict3)\n",
    "a"
   ]
  },
  {
   "cell_type": "code",
   "execution_count": 51,
   "id": "40e8bd4d-3fac-4c2a-87e9-457e40f4295c",
   "metadata": {},
   "outputs": [
    {
     "data": {
      "text/plain": [
       "'key:C and value: 100'"
      ]
     },
     "execution_count": 51,
     "metadata": {},
     "output_type": "execute_result"
    }
   ],
   "source": [
    "#  Find the Key with the Maximum Value in a Dictionary: \n",
    "dict3={\"A\":80,\"B\":70,\"C\":100}\n",
    "def max_val(dict3):\n",
    "    value1=0\n",
    "    for key,value in dict3.items():\n",
    "        if dict3[key]>value1:\n",
    "            value1=dict3[key]\n",
    "    return f\"key:{key} and value: {value1}\"\n",
    "a=max_val(dict3)\n",
    "a  "
   ]
  },
  {
   "cell_type": "code",
   "execution_count": 54,
   "id": "0cf92249-efc5-41ac-acce-de9512c15496",
   "metadata": {},
   "outputs": [
    {
     "data": {
      "text/plain": [
       "'key:C and value: 100'"
      ]
     },
     "execution_count": 54,
     "metadata": {},
     "output_type": "execute_result"
    }
   ],
   "source": [
    "# optimize it \n",
    "dict3={\"A\":80,\"B\":70,\"C\":100}\n",
    "def max_val(dict3):\n",
    "    if dict3=={}:\n",
    "        return \"empty\"\n",
    "    maxx_key=max(dict3, key=dict3.get)\n",
    "    return f\"key:{maxx_key} and value: {dict3[maxx_key]}\"\n",
    "a=max_val(dict3)\n",
    "a "
   ]
  },
  {
   "cell_type": "code",
   "execution_count": 14,
   "id": "22e6e1ce-7464-4df0-b42b-c9be75417583",
   "metadata": {},
   "outputs": [
    {
     "data": {
      "text/plain": [
       "'key:B and value: 70'"
      ]
     },
     "execution_count": 14,
     "metadata": {},
     "output_type": "execute_result"
    }
   ],
   "source": [
    "# Find the Key with the minimum Value in a Dictionary: \n",
    "dict3={\"A\":80,\"B\":70,\"C\":100}\n",
    "def mn_val(dict3):\n",
    "    if dict3=={}:\n",
    "        return \"empty\"\n",
    "    min_key=min(dict3, key=dict3.get)\n",
    "    return f\"key:{min_key} and value: {dict3[min_key]}\"\n",
    "a=mn_val(dict3)\n",
    "a "
   ]
  },
  {
   "cell_type": "code",
   "execution_count": 60,
   "id": "584096e6-29c5-4c71-b002-5a12f7a1a8c1",
   "metadata": {},
   "outputs": [
    {
     "data": {
      "text/plain": [
       "{80: 'A', 70: 'B', 100: 'C'}"
      ]
     },
     "execution_count": 60,
     "metadata": {},
     "output_type": "execute_result"
    }
   ],
   "source": [
    "# Reverse a Dictionary: \n",
    "dict3={\"A\":80,\"B\":70,\"C\":100}\n",
    "def rev_dict(dict3):\n",
    "    r={v:k for k, v in dict3.items()}\n",
    "    return r    \n",
    "a=rev_dict(dict3)\n",
    "a"
   ]
  },
  {
   "cell_type": "code",
   "execution_count": 13,
   "id": "1f99b8e8-88a0-4efb-a442-0cfd7f38c42b",
   "metadata": {},
   "outputs": [
    {
     "data": {
      "text/plain": [
       "{'B': 2}"
      ]
     },
     "execution_count": 13,
     "metadata": {},
     "output_type": "execute_result"
    }
   ],
   "source": [
    "# Find Common Key-Value Pairs in Two Dictionaries: \n",
    "dict1={\"A\":1,\"B\":2,\"C\":3}\n",
    "dict2={\"A\":2,\"B\":2,\"C\":1}\n",
    "def common(dict1,k,v):\n",
    "    common_pairs={}\n",
    "    for k,v in dict1.items():\n",
    "        if k in dict2.keys() and v==dict2[k]:\n",
    "            common_pairs[k]=v\n",
    "    return common_pairs\n",
    "a=common(dict1,\"A\",1)\n",
    "a"
   ]
  },
  {
   "cell_type": "code",
   "execution_count": 16,
   "id": "94ca186f-0750-41c9-9124-3ba73b279ee2",
   "metadata": {},
   "outputs": [
    {
     "data": {
      "text/plain": [
       "'min key is :A --> value : 1'"
      ]
     },
     "execution_count": 16,
     "metadata": {},
     "output_type": "execute_result"
    }
   ],
   "source": [
    "# Find the Key with the Minimum Value in a Dictionary:\n",
    "dict1={\"A\":1,\"B\":2,\"C\":3}\n",
    "def min_key(dict1):\n",
    "    if dict1=={}:\n",
    "        return \"emt\"\n",
    "    min_key1=min(dict1, key=dict1.get)\n",
    "    return f\"min key is :{min_key1} --> value : {dict1[min_key1]}\"\n",
    "a=min_key(dict1)\n",
    "a\n"
   ]
  },
  {
   "cell_type": "code",
   "execution_count": null,
   "id": "cc804e35-371e-4f60-9822-342636001355",
   "metadata": {},
   "outputs": [],
   "source": [
    "# Remove Duplicates from a List of Dictionaries:\n",
    "dd= [{\"name\": \"Alice\", \"age\": 30}, {\"name\": \"Bob\", \"age\": 25},  {\"name\": \"Alice\", \"age\": 30}] \n",
    "def rem(dd):\n",
    "    non_d={}\n",
    "    for i in dd:\n",
    "        tup=sorted(dd)\n",
    "    return"
   ]
  },
  {
   "cell_type": "code",
   "execution_count": 34,
   "id": "fc30ba25-0ff3-4079-ad9a-a3fbaa456cb4",
   "metadata": {},
   "outputs": [
    {
     "name": "stdout",
     "output_type": "stream",
     "text": [
      "(('A', 1), ('B', 2))\n",
      "(('A', 1), ('B', 2))\n",
      "(('A', 2), ('B', 3))\n",
      "(('C', 3), ('D', 4))\n",
      "(('A', 3), ('B', 2))\n"
     ]
    }
   ],
   "source": [
    "dict_list = [{\"A\": 1, \"B\": 2},{\"A\": 1, \"B\": 2},{\"A\": 2, \"B\": 3},{\"C\": 3, \"D\": 4},{\"B\": 2, \"A\": 3}]\n",
    "for d in dict_list:\n",
    "    dict_tuple = tuple(sorted(d.items()))\n",
    "    print(dict_tuple)"
   ]
  },
  {
   "cell_type": "code",
   "execution_count": 36,
   "id": "7951da74-bcae-414f-8f31-1a475d987367",
   "metadata": {},
   "outputs": [
    {
     "data": {
      "text/plain": [
       "'max count key --> 2 and frequency : 3'"
      ]
     },
     "execution_count": 36,
     "metadata": {},
     "output_type": "execute_result"
    }
   ],
   "source": [
    "# Find the Most Frequent Element in a List: \n",
    "l1=[1,2,4,3,2,1,5,6,8,7,6,5,4,3,2]\n",
    "def cnt(l1):\n",
    "    dict1={}\n",
    "    for i in l1:\n",
    "        if i in dict1:\n",
    "            dict1[i]+=1\n",
    "        else:\n",
    "            dict1[i]=1\n",
    "    max_cnt_key=max(dict1,key=dict1.get)\n",
    "    return f\"max count key --> {max_cnt_key} and frequency : {dict1[max_cnt_key]}\"\n",
    "a=cnt(l1)\n",
    "a"
   ]
  },
  {
   "cell_type": "code",
   "execution_count": 44,
   "id": "38415d73-1215-4bba-ba34-2600c924b812",
   "metadata": {},
   "outputs": [
    {
     "data": {
      "text/plain": [
       "'key --> 2 and v --> 3'"
      ]
     },
     "execution_count": 44,
     "metadata": {},
     "output_type": "execute_result"
    }
   ],
   "source": [
    "# optimized \n",
    "from collections import Counter\n",
    "def cnt(l1):\n",
    "    feq_cnt=Counter(l1)\n",
    "    maxx=max(feq_cnt, key=feq_cnt.get)\n",
    "    return f\"key --> {maxx} and v --> {feq_cnt[maxx]}\"\n",
    "a=cnt(l1)\n",
    "a"
   ]
  },
  {
   "cell_type": "code",
   "execution_count": 53,
   "id": "f3d56e12-8d29-4094-9a6e-b9ec64e8503c",
   "metadata": {},
   "outputs": [
    {
     "data": {
      "text/plain": [
       "True"
      ]
     },
     "execution_count": 53,
     "metadata": {},
     "output_type": "execute_result"
    }
   ],
   "source": [
    "# Check if Two Dictionaries are Equal\n",
    "d1={\"A\": 1, \"B\": 2, \"C\": 3}\n",
    "d2={\"C\": 3, \"B\": 2, \"A\": 1}\n",
    "def check(d1,d2):\n",
    "    if d1.keys()!=d2.keys():\n",
    "        return False\n",
    "    for k in d1:\n",
    "        if d1[k]!=d2[k]:\n",
    "            return False\n",
    "    return True\n",
    "a=check(d1,d2)\n",
    "a"
   ]
  },
  {
   "cell_type": "code",
   "execution_count": 54,
   "id": "c304f9a6-0892-4080-a22b-7824a262f407",
   "metadata": {},
   "outputs": [
    {
     "data": {
      "text/plain": [
       "True"
      ]
     },
     "execution_count": 54,
     "metadata": {},
     "output_type": "execute_result"
    }
   ],
   "source": [
    "# Check if Two Dictionaries are Equal\n",
    "d1={\"A\": 1, \"B\": 2, \"C\": 3}\n",
    "d2={\"C\": 3, \"B\": 2, \"A\": 1}\n",
    "def check(d1,d2):\n",
    "    return d1==d2\n",
    "a=check(d1,d2)\n",
    "a"
   ]
  },
  {
   "cell_type": "code",
   "execution_count": 61,
   "id": "b70e05f3-a9a9-4b16-912f-a3920aebc30f",
   "metadata": {},
   "outputs": [
    {
     "data": {
      "text/plain": [
       "[('A', 2), ('B', 1), ('C', 3)]"
      ]
     },
     "execution_count": 61,
     "metadata": {},
     "output_type": "execute_result"
    }
   ],
   "source": [
    "#  Sort Dictionary by Key \n",
    "d1={\"B\": 1, \"A\": 2, \"C\": 3}\n",
    "def st(d1):\n",
    "    for k in d1:\n",
    "        dd=sorted(d1.items())\n",
    "    return dd\n",
    "a=st(d1)\n",
    "a"
   ]
  },
  {
   "cell_type": "code",
   "execution_count": 65,
   "id": "8048a4c8-8e4a-4028-9369-7032187a63ce",
   "metadata": {},
   "outputs": [
    {
     "data": {
      "text/plain": [
       "[('A', 2), ('C', 3), ('B', 4)]"
      ]
     },
     "execution_count": 65,
     "metadata": {},
     "output_type": "execute_result"
    }
   ],
   "source": [
    "#  Sort Dictionary by value\n",
    "d1={\"B\": 4, \"A\": 2, \"C\": 3}\n",
    "def st(d1):\n",
    "    dd=sorted(d1.items(),key=lambda x: x[1])\n",
    "    return dd\n",
    "a=st(d1)\n",
    "a"
   ]
  },
  {
   "cell_type": "code",
   "execution_count": 66,
   "id": "372638e7-36e3-4868-90cd-89a19ea1a0be",
   "metadata": {},
   "outputs": [],
   "source": [
    "# x is tuple --> (\"X\":1)\n",
    "# so x[1] --> indicated 1st index element --> value"
   ]
  },
  {
   "cell_type": "code",
   "execution_count": 68,
   "id": "8ea14a60-9b72-47da-9218-a87b7a3b7b04",
   "metadata": {},
   "outputs": [
    {
     "data": {
      "text/plain": [
       "2"
      ]
     },
     "execution_count": 68,
     "metadata": {},
     "output_type": "execute_result"
    }
   ],
   "source": [
    "#  Count the Number of Key-Value Pairs in a Dictionary: \n",
    "d1={\"B\": 4, \"A\": 2}\n",
    "def cnt(d1):\n",
    "    return len(d1)\n",
    "a=cnt(d1)\n",
    "a"
   ]
  },
  {
   "cell_type": "code",
   "execution_count": null,
   "id": "6606eea8-2e0c-4b42-b038-3081f7452129",
   "metadata": {},
   "outputs": [],
   "source": []
  },
  {
   "cell_type": "code",
   "execution_count": null,
   "id": "479aaeac-009f-47b7-b6ce-4f8cdef6664f",
   "metadata": {},
   "outputs": [],
   "source": []
  }
 ],
 "metadata": {
  "kernelspec": {
   "display_name": "Python 3 (ipykernel)",
   "language": "python",
   "name": "python3"
  },
  "language_info": {
   "codemirror_mode": {
    "name": "ipython",
    "version": 3
   },
   "file_extension": ".py",
   "mimetype": "text/x-python",
   "name": "python",
   "nbconvert_exporter": "python",
   "pygments_lexer": "ipython3",
   "version": "3.12.2"
  }
 },
 "nbformat": 4,
 "nbformat_minor": 5
}
